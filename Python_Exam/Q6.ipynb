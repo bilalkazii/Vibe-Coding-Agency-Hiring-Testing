{
  "nbformat": 4,
  "nbformat_minor": 0,
  "metadata": {
    "colab": {
      "provenance": []
    },
    "kernelspec": {
      "name": "python3",
      "display_name": "Python 3"
    },
    "language_info": {
      "name": "python"
    }
  },
  "cells": [
    {
      "cell_type": "code",
      "source": [
        "import pandas as pd\n",
        "import numpy as np\n",
        "\n",
        "def analyze_sales_data(df, group_by_column):\n",
        "    \"\"\"\n",
        "    Analyze sales data by grouping and calculating statistics.\n",
        "\n",
        "    Args:\n",
        "        df: DataFrame with columns ['product', 'category', 'sales', 'profit']\n",
        "        group_by_column: Column name to group by\n",
        "\n",
        "    Returns:\n",
        "        DataFrame with aggregated statistics\n",
        "    \"\"\"\n",
        "    # ✅ Handle edge cases\n",
        "    if df.empty or group_by_column not in df.columns:\n",
        "        # Return empty DataFrame with required columns\n",
        "        return pd.DataFrame(columns=['sales_sum', 'sales_mean', 'profit_sum', 'profit_mean', 'profit_margin'])\n",
        "\n",
        "    # ✅ Handle missing values - treat as 0\n",
        "    df_filled = df.copy()\n",
        "    df_filled['sales'] = df_filled['sales'].fillna(0)\n",
        "    df_filled['profit'] = df_filled['profit'].fillna(0)\n",
        "\n",
        "    # ✅ Group by specified column and calculate statistics\n",
        "    grouped = df_filled.groupby(group_by_column).agg({\n",
        "        'sales': ['sum', 'mean'],\n",
        "        'profit': ['sum', 'mean']\n",
        "    })\n",
        "\n",
        "    # ✅ Flatten column names\n",
        "    grouped.columns = ['sales_sum', 'sales_mean', 'profit_sum', 'profit_mean']\n",
        "\n",
        "    # ✅ Calculate profit margin (handle division by zero)\n",
        "    grouped['profit_margin'] = grouped['profit_sum'] / grouped['sales_sum']\n",
        "    grouped['profit_margin'] = grouped['profit_margin'].replace([np.inf, -np.inf], np.nan)\n",
        "\n",
        "    return grouped\n",
        "\n",
        "# Test the Implementation:\n",
        "# Create sample data for testing\n",
        "sample_data = pd.DataFrame({\n",
        "    'product': ['A', 'B', 'C', 'A', 'B', 'C', 'A'],\n",
        "    'category': ['Electronics', 'Electronics', 'Clothing', 'Electronics', 'Electronics', 'Clothing', 'Electronics'],\n",
        "    'sales': [100, 200, 150, 120, np.nan, 180, 110],\n",
        "    'profit': [20, 50, 30, 25, 40, 35, 22]\n",
        "})\n",
        "\n",
        "print(\"Sample data:\")\n",
        "print(sample_data)\n",
        "print(\"\\nAnalysis by product:\")\n",
        "result = analyze_sales_data(sample_data, 'product')\n",
        "print(result)\n",
        "\n",
        "print(\"\\nAnalysis by category:\")\n",
        "result_category = analyze_sales_data(sample_data, 'category')\n",
        "print(result_category)\n"
      ],
      "metadata": {
        "colab": {
          "base_uri": "https://localhost:8080/"
        },
        "id": "U-DXXGKRYwlI",
        "outputId": "22930b0e-3b42-4ba1-9891-9eb59d8f6e03"
      },
      "execution_count": 8,
      "outputs": [
        {
          "output_type": "stream",
          "name": "stdout",
          "text": [
            "Sample data:\n",
            "  product     category  sales  profit\n",
            "0       A  Electronics  100.0      20\n",
            "1       B  Electronics  200.0      50\n",
            "2       C     Clothing  150.0      30\n",
            "3       A  Electronics  120.0      25\n",
            "4       B  Electronics    NaN      40\n",
            "5       C     Clothing  180.0      35\n",
            "6       A  Electronics  110.0      22\n",
            "\n",
            "Analysis by product:\n",
            "         sales_sum  sales_mean  profit_sum  profit_mean  profit_margin\n",
            "product                                                               \n",
            "A            330.0       110.0          67    22.333333        0.20303\n",
            "B            200.0       100.0          90    45.000000        0.45000\n",
            "C            330.0       165.0          65    32.500000        0.19697\n",
            "\n",
            "Analysis by category:\n",
            "             sales_sum  sales_mean  profit_sum  profit_mean  profit_margin\n",
            "category                                                                  \n",
            "Clothing         330.0       165.0          65         32.5       0.196970\n",
            "Electronics      530.0       106.0         157         31.4       0.296226\n"
          ]
        }
      ]
    }
  ]
}