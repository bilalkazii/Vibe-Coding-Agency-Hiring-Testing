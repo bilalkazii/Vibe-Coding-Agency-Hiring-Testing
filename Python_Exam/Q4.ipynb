{
  "nbformat": 4,
  "nbformat_minor": 0,
  "metadata": {
    "colab": {
      "provenance": []
    },
    "kernelspec": {
      "name": "python3",
      "display_name": "Python 3"
    },
    "language_info": {
      "name": "python"
    }
  },
  "cells": [
    {
      "cell_type": "code",
      "source": [
        "def find_common_elements_slow(lists):\n",
        "    \"\"\"\n",
        "    Find elements that appear in ALL provided lists.\n",
        "    AI-generated inefficient version - OPTIMIZE THIS!\n",
        "    \"\"\"\n",
        "    if not lists:\n",
        "        return []\n",
        "\n",
        "    common = []\n",
        "    for item in lists[0]:\n",
        "        is_common = True\n",
        "        for other_list in lists[1:]:\n",
        "            found = False\n",
        "            for other_item in other_list:\n",
        "                if item == other_item:\n",
        "                    found = True\n",
        "                    break\n",
        "            if not found:\n",
        "                is_common = False\n",
        "                break\n",
        "        if is_common and item not in common:\n",
        "            common.append(item)\n",
        "    return common\n",
        "\n",
        "# Time Complexity: O(n³) - Very inefficient!\n",
        "\n",
        "# Optimized Fast Code:\n",
        "def find_common_elements_fast(lists):\n",
        "    \"\"\"\n",
        "    Find elements that appear in ALL provided lists.\n",
        "    Optimized version with better time complexity.\n",
        "\n",
        "    Args:\n",
        "        lists: List of lists to find common elements in\n",
        "\n",
        "    Returns:\n",
        "        list: Elements that appear in all lists\n",
        "    \"\"\"\n",
        "    if not lists:\n",
        "        return []\n",
        "\n",
        "    # ✅ Convert first list to set for O(1) lookups\n",
        "    common_set = set(lists[0])\n",
        "\n",
        "    # ✅ Intersect with all other lists\n",
        "    for other_list in lists[1:]:\n",
        "        common_set = common_set.intersection(other_list)\n",
        "\n",
        "    return list(common_set)\n",
        "\n",
        "# Alternative even faster version:\n",
        "def find_common_elements_fast_v2(lists):\n",
        "    \"\"\"Even more optimized using built-in set operations\"\"\"\n",
        "    if not lists:\n",
        "        return []\n",
        "\n",
        "    # ✅ One-liner using set intersection\n",
        "    return list(set(lists[0]).intersection(*lists[1:]))\n",
        "\n",
        "# Test Both Versions:\n",
        "\n",
        "test_lists = [\n",
        "    [1, 2, 3, 4, 5],\n",
        "    [3, 4, 5, 6, 7],\n",
        "    [4, 5, 7, 8, 9]\n",
        "]\n",
        "\n",
        "print(\"Slow version:\", find_common_elements_slow(test_lists))\n",
        "print(\"Fast version:\", find_common_elements_fast(test_lists))\n",
        "print(\"Fast v2 version:\", find_common_elements_fast_v2(test_lists))\n"
      ],
      "metadata": {
        "colab": {
          "base_uri": "https://localhost:8080/"
        },
        "id": "5BsGc6o2X1e8",
        "outputId": "9872ae06-0bf3-4a28-eb5d-57b85d3f5e0d"
      },
      "execution_count": 6,
      "outputs": [
        {
          "output_type": "stream",
          "name": "stdout",
          "text": [
            "Slow version: [4, 5]\n",
            "Fast version: [4, 5]\n",
            "Fast v2 version: [4, 5]\n"
          ]
        }
      ]
    }
  ]
}