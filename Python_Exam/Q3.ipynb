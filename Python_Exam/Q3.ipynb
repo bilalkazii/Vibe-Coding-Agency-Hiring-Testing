{
  "nbformat": 4,
  "nbformat_minor": 0,
  "metadata": {
    "colab": {
      "provenance": []
    },
    "kernelspec": {
      "name": "python3",
      "display_name": "Python 3"
    },
    "language_info": {
      "name": "python"
    }
  },
  "cells": [
    {
      "cell_type": "code",
      "source": [
        "class TaskManager:\n",
        "    \"\"\"\n",
        "    A simple task manager for tracking todo items.\n",
        "    \"\"\"\n",
        "\n",
        "    def __init__(self):\n",
        "        \"\"\"Initialize empty task manager.\"\"\"\n",
        "        self.tasks = []\n",
        "        self.next_id = 1\n",
        "\n",
        "    def add_task(self, description: str, priority: int = 2) -> int:\n",
        "        \"\"\"\n",
        "        Add a new task.\n",
        "\n",
        "        Args:\n",
        "            description (str): Task description\n",
        "            priority (int): Priority level (1=high, 2=medium, 3=low)\n",
        "\n",
        "        Returns:\n",
        "            int: Task ID\n",
        "        \"\"\"\n",
        "        task = {\n",
        "            'id': self.next_id,\n",
        "            'description': description,\n",
        "            'priority': priority,\n",
        "            'completed': False,\n",
        "            'created_at': '2024-01-01'  # In real app, use datetime.now()\n",
        "        }\n",
        "        self.tasks.append(task)\n",
        "        self.next_id += 1\n",
        "        return task['id']\n",
        "\n",
        "    def complete_task(self, task_id: int) -> bool:\n",
        "        \"\"\"\n",
        "        Mark a task as complete.\n",
        "\n",
        "        Args:\n",
        "            task_id: Unique identifier for the task\n",
        "\n",
        "        Returns:\n",
        "            bool: True if task was found and completed, False otherwise\n",
        "        \"\"\"\n",
        "        for task in self.tasks:\n",
        "            if task['id'] == task_id:\n",
        "                task['completed'] = True\n",
        "                return True\n",
        "        return False\n",
        "\n",
        "    def get_tasks(self, completed: bool = None, priority: int = None) -> list:\n",
        "        \"\"\"\n",
        "        Get tasks filtered by status and/or priority.\n",
        "\n",
        "        Args:\n",
        "            completed (bool, optional): Filter by completion status\n",
        "            priority (int, optional): Filter by priority level\n",
        "\n",
        "        Returns:\n",
        "            list: List of matching tasks\n",
        "        \"\"\"\n",
        "        filtered_tasks = self.tasks\n",
        "\n",
        "        if completed is not None:\n",
        "            filtered_tasks = [task for task in filtered_tasks if task['completed'] == completed]\n",
        "\n",
        "        if priority is not None:\n",
        "            filtered_tasks = [task for task in filtered_tasks if task['priority'] == priority]\n",
        "\n",
        "        return filtered_tasks\n",
        "\n",
        "    def get_task_count(self, completed: bool = None) -> int:\n",
        "        \"\"\"\n",
        "        Get count of tasks by completion status.\n",
        "\n",
        "        Args:\n",
        "            completed (bool, optional): Count completed (True) or pending (False) tasks\n",
        "\n",
        "        Returns:\n",
        "            int: Number of matching tasks\n",
        "        \"\"\"\n",
        "        if completed is None:\n",
        "            return len(self.tasks)\n",
        "        else:\n",
        "            return len([task for task in self.tasks if task['completed'] == completed])\n",
        "\n",
        "# Test the implementation\n",
        "tm = TaskManager()\n",
        "tm.add_task(\"Fix bug in login\", 1)  # High priority\n",
        "tm.add_task(\"Update documentation\", 3)  # Low priority\n",
        "tm.add_task(\"Code review\", 2)  # Medium priority\n",
        "\n",
        "print(\"All tasks:\", len(tm.get_tasks()))\n",
        "print(\"High priority tasks:\", len(tm.get_tasks(priority=1)))\n"
      ],
      "metadata": {
        "colab": {
          "base_uri": "https://localhost:8080/"
        },
        "id": "yBaxA3_aXZZ8",
        "outputId": "6d5eec0a-d295-46fa-bf18-23ae67cf012d"
      },
      "execution_count": 5,
      "outputs": [
        {
          "output_type": "stream",
          "name": "stdout",
          "text": [
            "All tasks: 3\n",
            "High priority tasks: 1\n"
          ]
        }
      ]
    }
  ]
}