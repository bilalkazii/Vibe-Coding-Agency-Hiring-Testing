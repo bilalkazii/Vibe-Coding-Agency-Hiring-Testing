{
  "nbformat": 4,
  "nbformat_minor": 0,
  "metadata": {
    "colab": {
      "provenance": []
    },
    "kernelspec": {
      "name": "python3",
      "display_name": "Python 3"
    },
    "language_info": {
      "name": "python"
    }
  },
  "cells": [
    {
      "cell_type": "code",
      "source": [
        "def filter_products_by_price(products, min_price, max_price):\n",
        "    \"\"\"\n",
        "    Filter products by price range.\n",
        "\n",
        "    Args:\n",
        "        products: List of dicts with 'name' and 'price' keys\n",
        "        min_price: Minimum price (inclusive)\n",
        "        max_price: Maximum price (inclusive)\n",
        "\n",
        "    Returns:\n",
        "        List of products within price range\n",
        "    \"\"\"\n",
        "    filtered = []\n",
        "    for product in products:\n",
        "        # ✅ FIX: Use >= and <= for inclusive bounds\n",
        "        if product['price'] >= min_price and product['price'] <= max_price:\n",
        "            filtered.append(product)\n",
        "    return filtered\n",
        "\n",
        "\n",
        "# Test your solution here\n",
        "products = [\n",
        "    {'name': 'Laptop', 'price': 1000},\n",
        "    {'name': 'Mouse', 'price': 25},\n",
        "    {'name': 'Keyboard', 'price': 75},\n",
        "    {'name': 'Monitor', 'price': 300}\n",
        "]\n",
        "\n",
        "result = filter_products_by_price(products, 25, 300)\n",
        "print(\"Filtered products:\", result)\n"
      ],
      "metadata": {
        "colab": {
          "base_uri": "https://localhost:8080/"
        },
        "id": "5P7EpNjhVYFt",
        "outputId": "9aafe45d-5daa-49a7-a387-df2b6f390350"
      },
      "execution_count": 3,
      "outputs": [
        {
          "output_type": "stream",
          "name": "stdout",
          "text": [
            "Filtered products: [{'name': 'Mouse', 'price': 25}, {'name': 'Keyboard', 'price': 75}, {'name': 'Monitor', 'price': 300}]\n"
          ]
        }
      ]
    }
  ]
}