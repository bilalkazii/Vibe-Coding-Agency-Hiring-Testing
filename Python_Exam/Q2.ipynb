{
  "nbformat": 4,
  "nbformat_minor": 0,
  "metadata": {
    "colab": {
      "provenance": []
    },
    "kernelspec": {
      "name": "python3",
      "display_name": "Python 3"
    },
    "language_info": {
      "name": "python"
    }
  },
  "cells": [
    {
      "cell_type": "code",
      "source": [
        "import requests\n",
        "import json\n",
        "import logging\n",
        "\n",
        "# Configure logging\n",
        "logging.basicConfig(level=logging.INFO)\n",
        "logger = logging.getLogger(__name__)\n",
        "\n",
        "def get_user_data(user_id):\n",
        "    \"\"\"\n",
        "    Fetch user data from API with proper error handling.\n",
        "\n",
        "    Args:\n",
        "        user_id: User ID to fetch\n",
        "\n",
        "    Returns:\n",
        "        dict: User data if successful, None if any error occurs\n",
        "    \"\"\"\n",
        "    url = f\"https://jsonplaceholder.typicode.com/users/{user_id}\"\n",
        "    try:\n",
        "        # Add timeout and check HTTP status\n",
        "        response = requests.get(url, timeout=5)\n",
        "        response.raise_for_status()  # Raises HTTPError for 4xx or 5xx\n",
        "\n",
        "        try:\n",
        "            data = response.json()\n",
        "            # If user not found, jsonplaceholder returns empty object {}\n",
        "            if not data:\n",
        "                logger.warning(f\"No user found for user_id={user_id}\")\n",
        "                return None\n",
        "            logger.info(f\"Fetched user data for user_id={user_id}\")\n",
        "            return data\n",
        "        except json.JSONDecodeError:\n",
        "            logger.error(f\"Invalid JSON response for user_id={user_id}\")\n",
        "            return None\n",
        "\n",
        "    except requests.exceptions.Timeout:\n",
        "        logger.error(f\"Request timed out for user_id={user_id}\")\n",
        "        return None\n",
        "    except requests.exceptions.RequestException as e:\n",
        "        # Catches ConnectionError, HTTPError, etc.\n",
        "        logger.error(f\"Request failed for user_id={user_id}: {e}\")\n",
        "        return None\n",
        "\n",
        "\n",
        "# Test your solution here\n",
        "user_data = get_user_data(1)\n",
        "print(\"User data:\", user_data)\n",
        "\n",
        "# Test Cell\n",
        "import unittest.mock as mock\n",
        "\n",
        "def test_question_2():\n",
        "    # Test successful request\n",
        "    user_data = get_user_data(1)\n",
        "    assert user_data is not None\n",
        "    assert 'name' in user_data\n",
        "\n",
        "    # Test invalid user ID\n",
        "    user_data = get_user_data(999999)\n",
        "    assert user_data is None\n",
        "\n",
        "    # Test with mock to simulate network error\n",
        "    with mock.patch('requests.get') as mock_get:\n",
        "        mock_get.side_effect = requests.exceptions.RequestException(\"Network error\")\n",
        "        result = get_user_data(1)\n",
        "        assert result is None\n",
        "\n",
        "    # Test with mock to simulate timeout\n",
        "    with mock.patch('requests.get') as mock_get:\n",
        "        mock_get.side_effect = requests.exceptions.Timeout(\"Timeout\")\n",
        "        result = get_user_data(1)\n",
        "        assert result is None\n",
        "\n",
        "    print(\"✓ Question 2 tests passed!\")\n",
        "\n",
        "test_question_2()\n"
      ],
      "metadata": {
        "colab": {
          "base_uri": "https://localhost:8080/"
        },
        "id": "v_-isn84WJo5",
        "outputId": "d0b1e45f-26b4-4745-fbc5-1f5eccf81c29"
      },
      "execution_count": 4,
      "outputs": [
        {
          "output_type": "stream",
          "name": "stderr",
          "text": [
            "ERROR:__main__:Request failed for user_id=999999: 404 Client Error: Not Found for url: https://jsonplaceholder.typicode.com/users/999999\n",
            "ERROR:__main__:Request failed for user_id=1: Network error\n",
            "ERROR:__main__:Request timed out for user_id=1\n"
          ]
        },
        {
          "output_type": "stream",
          "name": "stdout",
          "text": [
            "User data: {'id': 1, 'name': 'Leanne Graham', 'username': 'Bret', 'email': 'Sincere@april.biz', 'address': {'street': 'Kulas Light', 'suite': 'Apt. 556', 'city': 'Gwenborough', 'zipcode': '92998-3874', 'geo': {'lat': '-37.3159', 'lng': '81.1496'}}, 'phone': '1-770-736-8031 x56442', 'website': 'hildegard.org', 'company': {'name': 'Romaguera-Crona', 'catchPhrase': 'Multi-layered client-server neural-net', 'bs': 'harness real-time e-markets'}}\n",
            "✓ Question 2 tests passed!\n"
          ]
        }
      ]
    }
  ]
}